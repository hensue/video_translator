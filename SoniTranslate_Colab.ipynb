{
  "nbformat": 4,
  "nbformat_minor": 0,
  "metadata": {
    "colab": {
      "provenance": [],
      "gpuType": "T4",
      "include_colab_link": true
    },
    "kernelspec": {
      "name": "python3",
      "display_name": "Python 3"
    },
    "language_info": {
      "name": "python"
    },
    "accelerator": "GPU"
  },
  "cells": [
    {
      "cell_type": "markdown",
      "metadata": {
        "id": "view-in-github",
        "colab_type": "text"
      },
      "source": [
        "<a href=\"https://colab.research.google.com/github/R3gm/SoniTranslate/blob/main/SoniTranslate_Colab.ipynb\" target=\"_parent\"><img src=\"https://colab.research.google.com/assets/colab-badge.svg\" alt=\"Open In Colab\"/></a>"
      ]
    },
    {
      "cell_type": "markdown",
      "source": [
        "# SoniTranslate\n",
        "\n",
        "| Description | Link |\n",
        "| ----------- | ---- |\n",
        "| 🎉 Repository | [![GitHub Repository](https://img.shields.io/badge/GitHub-Repository-black?style=flat-square&logo=github)](https://github.com/R3gm/SoniTranslate/) |\n",
        "| 🚀 Online Demo in HF | [![Hugging Face Spaces](https://img.shields.io/badge/%F0%9F%A4%97%20Hugging%20Face-Spaces-blue)](https://huggingface.co/spaces/r3gm/SoniTranslate_translate_audio_of_a_video_content) |\n",
        "\n",
        "\n",
        "Support for\n",
        "\n",
        "| Language Code | Language   |\n",
        "|---------------|------------|\n",
        "| en            | English    |\n",
        "| fr            | French     |\n",
        "| de            | German     |\n",
        "| es            | Spanish    |\n",
        "| it            | Italian    |\n",
        "| ja            | Japanese   |\n",
        "| zh            | Chinese    |\n",
        "| nl            | Dutch      |\n",
        "| uk            | Ukrainian  |\n",
        "| pt            | Portuguese |\n",
        "| ar            | Arabic     |\n",
        "| cs            | Czech      |\n",
        "| da            | Danish     |\n",
        "| fi            | Finnish    |\n",
        "| el            | Greek      |\n",
        "| he            | Hebrew     |\n",
        "| hu            | Hungarian  |\n",
        "| ko            | Korean     |\n",
        "| fa            | Persian    |\n",
        "| pl            | Polish     |\n",
        "| ru            | Russian    |\n",
        "| tr            | Turkish    |\n",
        "| ur            | Urdu       |\n",
        "| hi            | Hindi      |\n",
        "| vi            | Vietnamese |\n",
        "\n",
        "\n"
      ],
      "metadata": {
        "id": "8lw0EgLex-YZ"
      }
    },
    {
      "cell_type": "code",
      "execution_count": null,
      "metadata": {
        "id": "LUgwm0rfx0_J"
      },
      "outputs": [],
      "source": [
        "!git clone https://github.com/r3gm/SoniTranslate.git\n",
        "%cd SoniTranslate\n",
        "\n",
        "!apt install git-lfs\n",
        "!git lfs install\n",
        "!apt -y install -qq aria2\n",
        "!aria2c --console-log-level=error -c -x 16 -s 16 -k 1M https://huggingface.co/r3gm/sonitranslate_voice_models/resolve/main/hubert_base.pt -d . -o hubert_base.pt\n",
        "!aria2c --console-log-level=error -c -x 16 -s 16 -k 1M https://huggingface.co/r3gm/sonitranslate_voice_models/resolve/main/rmvpe.pt -d . -o rmvpe.pt\n",
        "\n",
        "!pip install -r requirements_colab.txt\n",
        "!pip install -r requirements_extra.txt"
      ]
    },
    {
      "cell_type": "markdown",
      "source": [
        "`RESTART THE RUNTIME` before executing the next cell."
      ],
      "metadata": {
        "id": "dLgcPXc0IpBs"
      }
    },
    {
      "cell_type": "markdown",
      "source": [
        "One important step is to accept the license agreement for using Pyannote. You need to have an account on Hugging Face and `accept the license to use the models`: https://huggingface.co/pyannote/speaker-diarization and https://huggingface.co/pyannote/segmentation\n",
        "\n",
        "\n",
        "\n",
        "\n",
        "Get your KEY TOKEN here: https://hf.co/settings/tokens"
      ],
      "metadata": {
        "id": "LTaTstXPXNg2"
      }
    },
    {
      "cell_type": "code",
      "source": [
        "#@markdown # `RUN THE WEB APP`\n",
        "YOUR_HF_TOKEN = \"\" #@param {type:'string'}\n",
        "%env YOUR_HF_TOKEN={YOUR_HF_TOKEN}\n",
        "\n",
        "%cd SoniTranslate/\n",
        "!python app_rvc.py"
      ],
      "metadata": {
        "id": "XkhXfaFw4R4J",
        "cellView": "form"
      },
      "execution_count": null,
      "outputs": []
    },
    {
      "cell_type": "markdown",
      "source": [
        "Open the `public URL` when it appears"
      ],
      "metadata": {
        "id": "KJW3KrhZJh0u"
      }
    }
  ]
}